{
 "cells": [
  {
   "cell_type": "markdown",
   "metadata": {},
   "source": [
    "## Imports"
   ]
  },
  {
   "cell_type": "code",
   "execution_count": 51,
   "metadata": {},
   "outputs": [
    {
     "name": "stderr",
     "output_type": "stream",
     "text": [
      "[nltk_data] Downloading package stopwords to /Users/denis/nltk_data...\n",
      "[nltk_data]   Package stopwords is already up-to-date!\n",
      "[nltk_data] Downloading package punkt to /Users/denis/nltk_data...\n",
      "[nltk_data]   Package punkt is already up-to-date!\n"
     ]
    }
   ],
   "source": [
    "import os\n",
    "import random\n",
    "import re\n",
    "import string\n",
    "\n",
    "import nltk\n",
    "\n",
    "import numpy as np\n",
    "import pandas as pd\n",
    "\n",
    "\n",
    "from collections import Counter \n",
    "\n",
    "from gensim.models import Word2Vec\n",
    "\n",
    "from nltk import word_tokenize\n",
    "from nltk.corpus import stopwords\n",
    "\n",
    "from sklearn.cluster import MiniBatchKMeans\n",
    "from sklearn.metrics import silhouette_samples, silhouette_score\n",
    "\n",
    "nltk.download(\"stopwords\")\n",
    "nltk.download('punkt')\n",
    "\n",
    "SEED = 42\n",
    "random.seed(SEED)\n",
    "os.environ[\"PYTHONHASHSEED\"] = str(SEED)\n",
    "np.random.seed(SEED)"
   ]
  },
  {
   "cell_type": "markdown",
   "metadata": {},
   "source": [
    "## Read data"
   ]
  },
  {
   "cell_type": "code",
   "execution_count": 52,
   "metadata": {},
   "outputs": [],
   "source": [
    "df_raw = pd.read_csv(\"data/news_data.csv\")"
   ]
  },
  {
   "cell_type": "code",
   "execution_count": 53,
   "metadata": {},
   "outputs": [
    {
     "data": {
      "text/html": [
       "<div>\n",
       "<style scoped>\n",
       "    .dataframe tbody tr th:only-of-type {\n",
       "        vertical-align: middle;\n",
       "    }\n",
       "\n",
       "    .dataframe tbody tr th {\n",
       "        vertical-align: top;\n",
       "    }\n",
       "\n",
       "    .dataframe thead th {\n",
       "        text-align: right;\n",
       "    }\n",
       "</style>\n",
       "<table border=\"1\" class=\"dataframe\">\n",
       "  <thead>\n",
       "    <tr style=\"text-align: right;\">\n",
       "      <th></th>\n",
       "      <th>Unnamed: 0</th>\n",
       "      <th>source_id</th>\n",
       "      <th>source_name</th>\n",
       "      <th>author</th>\n",
       "      <th>title</th>\n",
       "      <th>description</th>\n",
       "      <th>url</th>\n",
       "      <th>url_to_image</th>\n",
       "      <th>published_at</th>\n",
       "      <th>content</th>\n",
       "      <th>top_article</th>\n",
       "      <th>engagement_reaction_count</th>\n",
       "      <th>engagement_comment_count</th>\n",
       "      <th>engagement_share_count</th>\n",
       "      <th>engagement_comment_plugin_count</th>\n",
       "    </tr>\n",
       "  </thead>\n",
       "  <tbody>\n",
       "    <tr>\n",
       "      <th>8005</th>\n",
       "      <td>8005</td>\n",
       "      <td>cbs-news</td>\n",
       "      <td>CBS News</td>\n",
       "      <td>Emily Tillett</td>\n",
       "      <td>300 former officials call out Trump for \"uncon...</td>\n",
       "      <td>Group of bipartisan national security experts ...</td>\n",
       "      <td>https://www.cbsnews.com/news/donald-trump-ukra...</td>\n",
       "      <td>https://cbsnews2.cbsistatic.com/hub/i/r/2017/0...</td>\n",
       "      <td>2019-09-27T12:17:01Z</td>\n",
       "      <td>More than 300 former national security officia...</td>\n",
       "      <td>0.0</td>\n",
       "      <td>14330.0</td>\n",
       "      <td>6414.0</td>\n",
       "      <td>4197.0</td>\n",
       "      <td>0.0</td>\n",
       "    </tr>\n",
       "    <tr>\n",
       "      <th>9495</th>\n",
       "      <td>9495</td>\n",
       "      <td>cnn</td>\n",
       "      <td>CNN</td>\n",
       "      <td>Jason Hanna and Aaron Cooper, CNN</td>\n",
       "      <td>WWII-era bomber crashes at an airport near Har...</td>\n",
       "      <td>A World War II-era aircraft crashed Wednesday ...</td>\n",
       "      <td>https://www.cnn.com/2019/10/02/us/connecticut-...</td>\n",
       "      <td>https://cdn.cnn.com/cnnnext/dam/assets/1910021...</td>\n",
       "      <td>2019-10-02T14:35:10Z</td>\n",
       "      <td>NaN</td>\n",
       "      <td>0.0</td>\n",
       "      <td>3373.0</td>\n",
       "      <td>988.0</td>\n",
       "      <td>1265.0</td>\n",
       "      <td>0.0</td>\n",
       "    </tr>\n",
       "    <tr>\n",
       "      <th>7428</th>\n",
       "      <td>7428</td>\n",
       "      <td>business-insider</td>\n",
       "      <td>Business Insider</td>\n",
       "      <td>lramsey@businessinsider.com (Lydia Ramsey), Ly...</td>\n",
       "      <td>Dispensed: Amazon and Best Buy's expanding hea...</td>\n",
       "      <td>REUTERS/Joshua Roberts Hello, There must be so...</td>\n",
       "      <td>https://www.businessinsider.com/dispensed-week...</td>\n",
       "      <td>https://image.businessinsider.com/5c2f7f05bd77...</td>\n",
       "      <td>2019-09-27T14:13:56Z</td>\n",
       "      <td>Hello,\\nThere must be something in the water t...</td>\n",
       "      <td>0.0</td>\n",
       "      <td>0.0</td>\n",
       "      <td>0.0</td>\n",
       "      <td>1627.0</td>\n",
       "      <td>0.0</td>\n",
       "    </tr>\n",
       "  </tbody>\n",
       "</table>\n",
       "</div>"
      ],
      "text/plain": [
       "      Unnamed: 0         source_id       source_name  \\\n",
       "8005        8005          cbs-news          CBS News   \n",
       "9495        9495               cnn               CNN   \n",
       "7428        7428  business-insider  Business Insider   \n",
       "\n",
       "                                                 author  \\\n",
       "8005                                      Emily Tillett   \n",
       "9495                  Jason Hanna and Aaron Cooper, CNN   \n",
       "7428  lramsey@businessinsider.com (Lydia Ramsey), Ly...   \n",
       "\n",
       "                                                  title  \\\n",
       "8005  300 former officials call out Trump for \"uncon...   \n",
       "9495  WWII-era bomber crashes at an airport near Har...   \n",
       "7428  Dispensed: Amazon and Best Buy's expanding hea...   \n",
       "\n",
       "                                            description  \\\n",
       "8005  Group of bipartisan national security experts ...   \n",
       "9495  A World War II-era aircraft crashed Wednesday ...   \n",
       "7428  REUTERS/Joshua Roberts Hello, There must be so...   \n",
       "\n",
       "                                                    url  \\\n",
       "8005  https://www.cbsnews.com/news/donald-trump-ukra...   \n",
       "9495  https://www.cnn.com/2019/10/02/us/connecticut-...   \n",
       "7428  https://www.businessinsider.com/dispensed-week...   \n",
       "\n",
       "                                           url_to_image          published_at  \\\n",
       "8005  https://cbsnews2.cbsistatic.com/hub/i/r/2017/0...  2019-09-27T12:17:01Z   \n",
       "9495  https://cdn.cnn.com/cnnnext/dam/assets/1910021...  2019-10-02T14:35:10Z   \n",
       "7428  https://image.businessinsider.com/5c2f7f05bd77...  2019-09-27T14:13:56Z   \n",
       "\n",
       "                                                content  top_article  \\\n",
       "8005  More than 300 former national security officia...          0.0   \n",
       "9495                                                NaN          0.0   \n",
       "7428  Hello,\\nThere must be something in the water t...          0.0   \n",
       "\n",
       "      engagement_reaction_count  engagement_comment_count  \\\n",
       "8005                    14330.0                    6414.0   \n",
       "9495                     3373.0                     988.0   \n",
       "7428                        0.0                       0.0   \n",
       "\n",
       "      engagement_share_count  engagement_comment_plugin_count  \n",
       "8005                  4197.0                              0.0  \n",
       "9495                  1265.0                              0.0  \n",
       "7428                  1627.0                              0.0  "
      ]
     },
     "execution_count": 53,
     "metadata": {},
     "output_type": "execute_result"
    }
   ],
   "source": [
    "df_raw.sample(3)"
   ]
  },
  {
   "cell_type": "markdown",
   "metadata": {},
   "source": [
    "## Clean data"
   ]
  },
  {
   "cell_type": "markdown",
   "metadata": {},
   "source": [
    "### Define function to clean and tokenize"
   ]
  },
  {
   "cell_type": "code",
   "execution_count": 54,
   "metadata": {},
   "outputs": [],
   "source": [
    "def clean_text(text, tokenizer, stopwords):\n",
    "    \"\"\"Pre-process text and generate tokens\n",
    "\n",
    "    Args:\n",
    "        text: Text to tokenize.\n",
    "\n",
    "    Returns:\n",
    "        Tokenized text.\n",
    "    \"\"\"\n",
    "    text = str(text).lower()  # Lowercase words\n",
    "    text = re.sub(r\"\\[(.*?)\\]\", \"\", text)  # Remove [+XYZ chars] in content\n",
    "    text = re.sub(r\"\\s+\", \" \", text)  # Remove multiple spaces in content\n",
    "    text = re.sub(r\"\\w+…|…\", \"\", text)  # Remove ellipsis (and last word)\n",
    "    text = re.sub(r\"(?<=\\w)-(?=\\w)\", \" \", text)  # Replace dash between words\n",
    "    text = re.sub(\n",
    "        f\"[{re.escape(string.punctuation)}]\", \"\", text\n",
    "    )  # Remove punctuation\n",
    "\n",
    "    tokens = tokenizer(text)  # Get tokens from text\n",
    "    tokens = [t for t in tokens if not t in stopwords]  # Remove stopwords\n",
    "    tokens = [\"\" if t.isdigit() else t for t in tokens]  # Remove digits\n",
    "    tokens = [t for t in tokens if len(t) > 1]  # Remove short tokens\n",
    "    return tokens"
   ]
  },
  {
   "cell_type": "markdown",
   "metadata": {},
   "source": [
    "### Apply function and remove duplicates"
   ]
  },
  {
   "cell_type": "code",
   "execution_count": 55,
   "metadata": {},
   "outputs": [
    {
     "name": "stdout",
     "output_type": "stream",
     "text": [
      "Original dataframe: (10437, 15)\n",
      "Pre-processed dataframe: (9882, 2)\n"
     ]
    }
   ],
   "source": [
    "custom_stopwords = set(stopwords.words(\"english\") + [\"news\", \"new\", \"top\"])\n",
    "text_columns = [\"title\", \"description\", \"content\"]\n",
    "\n",
    "df = df_raw.copy()\n",
    "df[\"content\"] = df[\"content\"].fillna(\"\")\n",
    "\n",
    "for col in text_columns:\n",
    "    df[col] = df[col].astype(str)\n",
    "\n",
    "# Create text column based on title, description, and content\n",
    "df[\"text\"] = df[text_columns].apply(lambda x: \" | \".join(x), axis=1)\n",
    "df[\"tokens\"] = df[\"text\"].map(lambda x: clean_text(x, word_tokenize, custom_stopwords))\n",
    "\n",
    "# Remove duplicated after preprocessing\n",
    "_, idx = np.unique(df[\"tokens\"], return_index=True)\n",
    "df = df.iloc[idx, :]\n",
    "\n",
    "# Remove empty values\n",
    "df = df.loc[df.tokens.map(lambda x: len(x) > 0), [\"text\", \"tokens\"]]\n",
    "\n",
    "print(f\"Original dataframe: {df_raw.shape}\")\n",
    "print(f\"Pre-processed dataframe: {df.shape}\")"
   ]
  },
  {
   "cell_type": "markdown",
   "metadata": {},
   "source": [
    "### Check vocabulary"
   ]
  },
  {
   "cell_type": "code",
   "execution_count": 56,
   "metadata": {},
   "outputs": [],
   "source": [
    "docs = df[\"text\"].values\n",
    "tokenized_docs = df[\"tokens\"].values\n",
    "vocab = Counter()\n",
    "for token in tokenized_docs:\n",
    "    vocab.update(token)"
   ]
  },
  {
   "cell_type": "code",
   "execution_count": 57,
   "metadata": {},
   "outputs": [
    {
     "data": {
      "text/plain": [
       "[('us', 2757),\n",
       " ('said', 2519),\n",
       " ('year', 1781),\n",
       " ('president', 1756),\n",
       " ('trump', 1705),\n",
       " ('world', 1620),\n",
       " ('says', 1511),\n",
       " ('one', 1418),\n",
       " ('two', 1284),\n",
       " ('first', 1195)]"
      ]
     },
     "execution_count": 57,
     "metadata": {},
     "output_type": "execute_result"
    }
   ],
   "source": [
    "vocab.most_common(10)"
   ]
  },
  {
   "cell_type": "markdown",
   "metadata": {},
   "source": [
    "## Train Word2Vec Model"
   ]
  },
  {
   "cell_type": "code",
   "execution_count": 24,
   "metadata": {},
   "outputs": [],
   "source": [
    "model = Word2Vec(sentences=tokenized_docs, vector_size=100, workers=1, seed=SEED)"
   ]
  },
  {
   "cell_type": "code",
   "execution_count": 206,
   "metadata": {},
   "outputs": [
    {
     "data": {
      "text/plain": [
       "[('trumps', 0.988541841506958),\n",
       " ('president', 0.9746493697166443),\n",
       " ('donald', 0.9274922013282776),\n",
       " ('ivanka', 0.9203903079032898),\n",
       " ('impeachment', 0.9195784330368042),\n",
       " ('pences', 0.9152231812477112),\n",
       " ('avlon', 0.9148306846618652),\n",
       " ('biden', 0.9146010279655457),\n",
       " ('breitbart', 0.9144087433815002),\n",
       " ('vice', 0.9067237973213196)]"
      ]
     },
     "execution_count": 206,
     "metadata": {},
     "output_type": "execute_result"
    }
   ],
   "source": [
    "model.wv.most_similar(\"trump\")"
   ]
  },
  {
   "cell_type": "markdown",
   "metadata": {},
   "source": [
    "## Generate vectors from document"
   ]
  },
  {
   "cell_type": "markdown",
   "metadata": {},
   "source": [
    "### Define function for creating a single vectors from word embeddings"
   ]
  },
  {
   "cell_type": "code",
   "execution_count": 207,
   "metadata": {},
   "outputs": [],
   "source": [
    "def vectorize(list_of_docs, model):\n",
    "    \"\"\"Generate vectors for list of documents using a Word Embedding\n",
    "\n",
    "    Args:\n",
    "        list_of_docs: List of documents\n",
    "        model: Gensim's Word Embedding\n",
    "\n",
    "    Returns:\n",
    "        List of document vectors\n",
    "    \"\"\"\n",
    "    features = []\n",
    "\n",
    "    for tokens in list_of_docs:\n",
    "        zero_vector = np.zeros(model.vector_size)\n",
    "        vectors = []\n",
    "        for token in tokens:\n",
    "            if token in model.wv:\n",
    "                try:\n",
    "                    vectors.append(model.wv[token])\n",
    "                except KeyError:\n",
    "                    continue\n",
    "        if vectors:\n",
    "            vectors = np.asarray(vectors)\n",
    "            avg_vec = vectors.mean(axis=0)\n",
    "            features.append(avg_vec)\n",
    "        else:\n",
    "            features.append(zero_vector)\n",
    "    return features"
   ]
  },
  {
   "cell_type": "markdown",
   "metadata": {},
   "source": [
    "### Apply function to previously pre-processed text"
   ]
  },
  {
   "cell_type": "code",
   "execution_count": 208,
   "metadata": {
    "scrolled": true
   },
   "outputs": [
    {
     "data": {
      "text/plain": [
       "(9882, 100)"
      ]
     },
     "execution_count": 208,
     "metadata": {},
     "output_type": "execute_result"
    }
   ],
   "source": [
    "vectorized_docs = vectorize(tokenized_docs, model=model)\n",
    "len(vectorized_docs), len(vectorized_docs[0])"
   ]
  },
  {
   "cell_type": "markdown",
   "metadata": {},
   "source": [
    "### Generate and analyze clusters"
   ]
  },
  {
   "cell_type": "code",
   "execution_count": 209,
   "metadata": {},
   "outputs": [],
   "source": [
    "def mbkmeans_clusters(X, k, mb=500, print_silhouette_values=False):\n",
    "    \"\"\"Generate clusters.\n",
    "\n",
    "    Args:\n",
    "        X: Matrix of features.\n",
    "        k: Number of clusters.\n",
    "        mb: Size of mini-batches. Defaults to 500.\n",
    "        print_silhouette_values: Print silhouette values per cluster.\n",
    "\n",
    "    Returns:\n",
    "        Trained clustering model and labels based on X.\n",
    "    \"\"\"\n",
    "    km = MiniBatchKMeans(n_clusters=k, batch_size=mb).fit(X)\n",
    "    print(f\"For n_clusters = {k}\")\n",
    "    print(f\"Silhouette coefficient: {silhouette_score(X, km.labels_):0.2f}\")\n",
    "    print(f\"Inertia:{km.inertia_}\")\n",
    "\n",
    "    if print_silhouette_values:\n",
    "        sample_silhouette_values = silhouette_samples(X, km.labels_)\n",
    "        print(f\"Silhouette values:\")\n",
    "        silhouette_values = []\n",
    "        for i in range(k):\n",
    "            cluster_silhouette_values = sample_silhouette_values[km.labels_ == i]\n",
    "            silhouette_values.append(\n",
    "                (\n",
    "                    i,\n",
    "                    cluster_silhouette_values.shape[0],\n",
    "                    cluster_silhouette_values.mean(),\n",
    "                    cluster_silhouette_values.min(),\n",
    "                    cluster_silhouette_values.max(),\n",
    "                )\n",
    "            )\n",
    "        silhouette_values = sorted(\n",
    "            silhouette_values, key=lambda tup: tup[2], reverse=True\n",
    "        )\n",
    "        for s in silhouette_values:\n",
    "            print(\n",
    "                f\"    Cluster {s[0]}: Size:{s[1]} | Avg:{s[2]:.2f} | Min:{s[3]:.2f} | Max: {s[4]:.2f}\"\n",
    "            )\n",
    "    return km, km.labels_"
   ]
  },
  {
   "cell_type": "code",
   "execution_count": 210,
   "metadata": {},
   "outputs": [
    {
     "name": "stdout",
     "output_type": "stream",
     "text": [
      "For n_clusters = 50\n",
      "Silhouette coefficient: 0.11\n",
      "Inertia:3567.650253048523\n",
      "Silhouette values:\n",
      "    Cluster 25: Size:49 | Avg:0.40 | Min:0.06 | Max: 0.59\n",
      "    Cluster 2: Size:139 | Avg:0.31 | Min:-0.04 | Max: 0.50\n",
      "    Cluster 17: Size:90 | Avg:0.27 | Min:-0.10 | Max: 0.50\n",
      "    Cluster 19: Size:96 | Avg:0.27 | Min:-0.01 | Max: 0.45\n",
      "    Cluster 28: Size:105 | Avg:0.25 | Min:-0.05 | Max: 0.48\n",
      "    Cluster 30: Size:57 | Avg:0.24 | Min:-0.06 | Max: 0.48\n",
      "    Cluster 48: Size:78 | Avg:0.23 | Min:-0.07 | Max: 0.43\n",
      "    Cluster 32: Size:59 | Avg:0.22 | Min:-0.00 | Max: 0.44\n",
      "    Cluster 23: Size:80 | Avg:0.20 | Min:0.03 | Max: 0.40\n",
      "    Cluster 13: Size:123 | Avg:0.19 | Min:-0.06 | Max: 0.40\n",
      "    Cluster 26: Size:219 | Avg:0.19 | Min:-0.06 | Max: 0.40\n",
      "    Cluster 44: Size:133 | Avg:0.19 | Min:-0.07 | Max: 0.39\n",
      "    Cluster 3: Size:153 | Avg:0.18 | Min:-0.04 | Max: 0.40\n",
      "    Cluster 41: Size:557 | Avg:0.18 | Min:-0.02 | Max: 0.40\n",
      "    Cluster 16: Size:437 | Avg:0.17 | Min:-0.02 | Max: 0.38\n",
      "    Cluster 45: Size:115 | Avg:0.16 | Min:-0.03 | Max: 0.38\n",
      "    Cluster 4: Size:150 | Avg:0.16 | Min:-0.09 | Max: 0.38\n",
      "    Cluster 8: Size:51 | Avg:0.15 | Min:-0.11 | Max: 0.37\n",
      "    Cluster 42: Size:172 | Avg:0.14 | Min:-0.10 | Max: 0.37\n",
      "    Cluster 34: Size:361 | Avg:0.13 | Min:-0.04 | Max: 0.31\n",
      "    Cluster 49: Size:80 | Avg:0.13 | Min:-0.05 | Max: 0.33\n",
      "    Cluster 29: Size:51 | Avg:0.13 | Min:-0.14 | Max: 0.38\n",
      "    Cluster 24: Size:479 | Avg:0.13 | Min:-0.07 | Max: 0.33\n",
      "    Cluster 37: Size:85 | Avg:0.12 | Min:-0.14 | Max: 0.35\n",
      "    Cluster 18: Size:187 | Avg:0.12 | Min:-0.08 | Max: 0.30\n",
      "    Cluster 40: Size:128 | Avg:0.11 | Min:-0.11 | Max: 0.32\n",
      "    Cluster 27: Size:117 | Avg:0.11 | Min:-0.11 | Max: 0.35\n",
      "    Cluster 0: Size:280 | Avg:0.10 | Min:-0.13 | Max: 0.30\n",
      "    Cluster 14: Size:290 | Avg:0.10 | Min:-0.11 | Max: 0.31\n",
      "    Cluster 9: Size:277 | Avg:0.10 | Min:-0.09 | Max: 0.30\n",
      "    Cluster 11: Size:129 | Avg:0.10 | Min:-0.10 | Max: 0.32\n",
      "    Cluster 31: Size:226 | Avg:0.10 | Min:-0.13 | Max: 0.30\n",
      "    Cluster 10: Size:210 | Avg:0.10 | Min:-0.08 | Max: 0.30\n",
      "    Cluster 47: Size:474 | Avg:0.09 | Min:-0.09 | Max: 0.28\n",
      "    Cluster 5: Size:73 | Avg:0.09 | Min:-0.08 | Max: 0.31\n",
      "    Cluster 46: Size:69 | Avg:0.09 | Min:-0.19 | Max: 0.32\n",
      "    Cluster 33: Size:220 | Avg:0.08 | Min:-0.14 | Max: 0.28\n",
      "    Cluster 6: Size:208 | Avg:0.07 | Min:-0.15 | Max: 0.28\n",
      "    Cluster 1: Size:199 | Avg:0.06 | Min:-0.15 | Max: 0.28\n",
      "    Cluster 22: Size:183 | Avg:0.05 | Min:-0.15 | Max: 0.26\n",
      "    Cluster 7: Size:329 | Avg:0.05 | Min:-0.20 | Max: 0.33\n",
      "    Cluster 15: Size:196 | Avg:0.05 | Min:-0.14 | Max: 0.28\n",
      "    Cluster 21: Size:127 | Avg:0.05 | Min:-0.10 | Max: 0.22\n",
      "    Cluster 12: Size:630 | Avg:0.05 | Min:-0.13 | Max: 0.24\n",
      "    Cluster 39: Size:236 | Avg:0.04 | Min:-0.21 | Max: 0.29\n",
      "    Cluster 43: Size:205 | Avg:0.04 | Min:-0.14 | Max: 0.23\n",
      "    Cluster 35: Size:233 | Avg:0.03 | Min:-0.20 | Max: 0.29\n",
      "    Cluster 38: Size:148 | Avg:0.03 | Min:-0.15 | Max: 0.27\n",
      "    Cluster 36: Size:271 | Avg:0.02 | Min:-0.14 | Max: 0.21\n",
      "    Cluster 20: Size:318 | Avg:0.01 | Min:-0.16 | Max: 0.20\n"
     ]
    }
   ],
   "source": [
    "clustering, cluster_labels = mbkmeans_clusters(X=vectorized_docs, k=50, print_silhouette_values=True)\n",
    "df_clusters = pd.DataFrame({\n",
    "    \"text\": docs,\n",
    "    \"tokens\": [\" \".join(text) for text in tokenized_docs],\n",
    "    \"cluster\": cluster_labels\n",
    "})"
   ]
  },
  {
   "cell_type": "code",
   "execution_count": 211,
   "metadata": {},
   "outputs": [
    {
     "name": "stdout",
     "output_type": "stream",
     "text": [
      "Top terms per cluster (based on centroids):\n",
      "Cluster 0: panel hill buttigieg rogue opposing \n",
      "Cluster 1: boats collapsed cause mosquito families \n",
      "Cluster 2: pm proposals delay johnsons benjamin \n",
      "Cluster 3: malone likes benefits rainforest passenger \n",
      "Cluster 4: murdering girl neighbor convicted manslaughter \n",
      "Cluster 5: amid delegation erdogan undermine envoy \n",
      "Cluster 6: tournament injury beat victory finished \n",
      "Cluster 7: professional edition virtual ones expensive \n",
      "Cluster 8: category humberto tropical landfall strengthened \n",
      "Cluster 9: urged shareholder repeal renewed prisoners \n",
      "Cluster 10: hospital indiana identified knife rioting \n",
      "Cluster 11: speech dominic israels block suspend \n",
      "Cluster 12: followed asian sep hire gain \n",
      "Cluster 13: cnnpolitics clinton complaint putin pences \n",
      "Cluster 14: sexually daughter teenage 20th disappearance \n",
      "Cluster 15: congressional vizcarra addressed aides claims \n",
      "Cluster 16: selection square jet orleans corps \n",
      "Cluster 17: tanker yemen ablaze arabian strikes \n",
      "Cluster 18: tweet praised obama responds criticized \n",
      "Cluster 19: squad warm foursomes qualifying finals \n",
      "Cluster 20: total december plunged gap switzerland \n",
      "Cluster 21: ohio pulled counts began connection \n",
      "Cluster 22: environmental zurich moscow source citing \n",
      "Cluster 23: charleston category humberto ocracoke ravaged \n",
      "Cluster 24: january formula liverpool minutes goals \n",
      "Cluster 25: noaa sharpie claim assertions forecasters \n",
      "Cluster 26: zelensky volodymyr impeach ukrainian whistleblowers \n",
      "Cluster 27: tariff dispute tensions imports lift \n",
      "Cluster 28: unrest clearing defied protesters demonstrators \n",
      "Cluster 29: centrifuges expressed message opinions desire \n",
      "Cluster 30: transcript cnns ridiculed interested contributor \n",
      "Cluster 31: defence occupied action jim khan \n",
      "Cluster 32: jury officers amber guyger guilty \n",
      "Cluster 33: arrest funeral illinois brazilian plea \n",
      "Cluster 34: placed dr anthony denied dismissed \n",
      "Cluster 35: test appearances bowl loan topped \n",
      "Cluster 36: operations preliminary funded immigrants freed \n",
      "Cluster 37: brace tornadoes devastating southeastern typhoon \n",
      "Cluster 38: flows lower brazil futures developments \n",
      "Cluster 39: stripe employers revenue investing headset \n",
      "Cluster 40: glasgow suspicious greenock hears midlands \n",
      "Cluster 41: edge cool success reveal actually \n",
      "Cluster 42: dealt edinburgh tafida museums perry \n",
      "Cluster 43: announcement jumped presented amp lifted \n",
      "Cluster 44: mps referendum proposal quits labour \n",
      "Cluster 45: tips patch coffee deals access \n",
      "Cluster 46: ai popularity supposedly access content \n",
      "Cluster 47: born suffered belgium drive tall \n",
      "Cluster 48: trying serial filmed shocked bag \n",
      "Cluster 49: islands charleston heavy ravaged storms \n"
     ]
    }
   ],
   "source": [
    "print(\"Top terms per cluster (based on centroids):\")\n",
    "for i in range(50):\n",
    "    tokens_per_cluster = \"\"\n",
    "    most_representative = model.wv.most_similar(positive=[clustering.cluster_centers_[i]], topn=5)\n",
    "    for t in most_representative:\n",
    "        tokens_per_cluster += f\"{t[0]} \"\n",
    "    print(f\"Cluster {i}: {tokens_per_cluster}\")"
   ]
  },
  {
   "cell_type": "code",
   "execution_count": 212,
   "metadata": {},
   "outputs": [
    {
     "name": "stdout",
     "output_type": "stream",
     "text": [
      "Police: No evidence of shooting at northern Virginia mall | Get breaking national and world news, broadcast video coverage, and exclusive interviews. Find the top news online at ABC news. | Authorities in northern Virginia say they have found no evidence that a shooting occurred at a popular mall.\n",
      "The Arlington County Police Department tweeted Saturday night that authorities were continuing to conduct a search at the Ballston Quarter mall in Ar… [+162 chars]\n",
      "-------------\n",
      "US woman arrested at Manila airport with baby hidden in bag | Get breaking national and world news, broadcast video coverage, and exclusive interviews. Find the top news online at ABC news. | An American woman who attempted to carry a 6-day-old baby out of the Philippines hidden inside a sling bag has been arrested at Manila's airport and charged with human trafficking, officials said Thursday.\n",
      "They said Jennifer Talbot was able to pass through t… [+1496 chars]\n",
      "-------------\n",
      "Jury selection begins in killing of pregnant woman, officer | Get breaking national and world news, broadcast video coverage, and exclusive interviews. Find the top news online at ABC news. | Jury selection has begun for a man accused of killing his pregnant ex-girlfriend and a Florida police officer.\n",
      "The Orlando Sentinel reports that Circuit Judge Leticia Marques told potential jurors Friday that if selected for the 12-member panel, they would b… [+618 chars]\n",
      "-------------\n",
      "12th man arrested in statutory rape case at Alabama college | Get breaking national and world news, broadcast video coverage, and exclusive interviews. Find the top news online at ABC news. | A dozen young men are now charged in connection with the alleged rapes of two underage teens at Alabama's Jacksonville State University.\n",
      "News outlets reports that an 11th and 12th suspect were arrested Monday.\n",
      "Investigators say two underage girls between th… [+504 chars]\n",
      "-------------\n",
      "Fetal remains found in Illinois home of doctor who died | Get breaking national and world news, broadcast video coverage, and exclusive interviews. Find the top news online at ABC news. | More than 2,200 medically preserved fetal remains have been found at the Illinois home of a former Indiana abortion clinic doctor who died last week.\n",
      "The Will County Sheriff's Office said in a news release that an attorney for Dr. Ulrich Klopfer's family con… [+536 chars]\n",
      "-------------\n",
      "Chicago boy, 1, stable after falling from 4th-story window | Get breaking national and world news, broadcast video coverage, and exclusive interviews. Find the top news online at ABC news. | Chicago police say a 1-year-old boy is hospitalized after falling from a residential building's fourth-story window.\n",
      "Police say the boy fell about 8:25 p.m. Monday from the Parkway Gardens Homes apartment complex. He was taken to Comer Children's Hospital, w… [+610 chars]\n",
      "-------------\n",
      "Police: No sign that Duluth synagogue fire was hate crime | Get breaking national and world news, broadcast video coverage, and exclusive interviews. Find the top news online at ABC news. | Authorities say a fire that destroyed a historic synagogue in northeastern Minnesota doesn't appear to have been a hate crime.\n",
      "Duluth Police Chief Mike Tusken said Sunday that 36-year-old Matthew James Amiot, of Duluth, was arrested Friday in the fire last w… [+665 chars]\n",
      "-------------\n",
      "Texas Popeye's ran out of chicken sandwiches, man pulls gun | Get breaking national and world news, broadcast video coverage, and exclusive interviews. Find the top news online at ABC news. | Police say a man pulled a gun at a Popeyes restaurant in Houston after being told they were out of chicken sandwiches.\n",
      "Houston police Lt. Larry Crowson says officers were called to the restaurant Monday night after a group of people tried to order a chicken … [+502 chars]\n",
      "-------------\n",
      "Coast Guard lieutenant who prosecutors said plotted a mass killing pleads guilty to gun and drug charges, faces 31 years | Get breaking national and world news, broadcast video coverage, and exclusive interviews. Find the top news online at ABC news. | Coast Guard lieutenant who prosecutors said plotted a mass killing pleads guilty to gun and drug charges, faces 31 years.\n",
      "-------------\n",
      "Judge: No immunity for Georgia officer who shot fleeing man | Get breaking national and world news, broadcast video coverage, and exclusive interviews. Find the top news online at ABC news. | A judge has denied a former Georgia police officer's request for immunity from prosecution for the fatal shooting of a fleeing, unarmed man.\n",
      "Zechariah Presley's trial on a manslaughter charge is scheduled to start Monday in Camden County. Superior Court Judg… [+537 chars]\n",
      "-------------\n"
     ]
    }
   ],
   "source": [
    "test_cluster = 48\n",
    "most_representative_docs = np.argsort(\n",
    "    np.linalg.norm(vectorized_docs - clustering.cluster_centers_[test_cluster], axis=1)\n",
    ")\n",
    "for d in most_representative_docs[:10]:\n",
    "    print(docs[d])\n",
    "    print(\"-------------\")"
   ]
  },
  {
   "cell_type": "markdown",
   "metadata": {},
   "source": [
    "## Train Doc2Vec Model"
   ]
  },
  {
   "cell_type": "code",
   "execution_count": 58,
   "metadata": {},
   "outputs": [],
   "source": [
    "from gensim.models.doc2vec import Doc2Vec, TaggedDocument\n",
    "\n",
    "documents = [TaggedDocument(doc, [i]) for i, doc in enumerate(tokenized_docs)]\n",
    "modeldv = Doc2Vec(documents, vector_size=100, window=2, min_count=1, workers=1)"
   ]
  },
  {
   "cell_type": "code",
   "execution_count": 59,
   "metadata": {},
   "outputs": [
    {
     "data": {
      "text/plain": [
       "[('trumps', 0.9249901175498962),\n",
       " ('cowboy', 0.8774431347846985),\n",
       " ('hump', 0.8660275936126709),\n",
       " ('cerrone', 0.8378428220748901),\n",
       " ('nhtsa', 0.8215087056159973),\n",
       " ('sedated', 0.8198277354240417),\n",
       " ('purposefully', 0.8184893131256104),\n",
       " ('dewey', 0.8119789958000183),\n",
       " ('huey', 0.8104555010795593),\n",
       " ('atmospheric', 0.8077002763748169)]"
      ]
     },
     "execution_count": 59,
     "metadata": {},
     "output_type": "execute_result"
    }
   ],
   "source": [
    "modeldv.wv.most_similar(\"trump\")"
   ]
  },
  {
   "cell_type": "markdown",
   "metadata": {},
   "source": [
    "## Generate vectors from document"
   ]
  },
  {
   "cell_type": "markdown",
   "metadata": {},
   "source": [
    "### Define function for creating a single vectors from word embeddings"
   ]
  },
  {
   "cell_type": "code",
   "execution_count": 60,
   "metadata": {
    "scrolled": true
   },
   "outputs": [
    {
     "data": {
      "text/plain": [
       "(9882, 100)"
      ]
     },
     "execution_count": 60,
     "metadata": {},
     "output_type": "execute_result"
    }
   ],
   "source": [
    "vectorized_docs = []\n",
    "for i in range(len(tokenized_docs)):\n",
    "    vectorized_docs.append(modeldv.infer_vector(tokenized_docs[i]))\n",
    "len(vectorized_docs), len(vectorized_docs[0])"
   ]
  },
  {
   "cell_type": "markdown",
   "metadata": {},
   "source": [
    "### Generate and analyze clusters"
   ]
  },
  {
   "cell_type": "code",
   "execution_count": 61,
   "metadata": {},
   "outputs": [],
   "source": [
    "def mbkmeans_clusters(X, k, mb=500, print_silhouette_values=False):\n",
    "    \"\"\"Generate clusters.\n",
    "\n",
    "    Args:\n",
    "        X: Matrix of features.\n",
    "        k: Number of clusters.\n",
    "        mb: Size of mini-batches. Defaults to 500.\n",
    "        print_silhouette_values: Print silhouette values per cluster.\n",
    "\n",
    "    Returns:\n",
    "        Trained clustering model and labels based on X.\n",
    "    \"\"\"\n",
    "    km = MiniBatchKMeans(n_clusters=k, batch_size=mb).fit(X)\n",
    "    print(f\"For n_clusters = {k}\")\n",
    "    print(f\"Silhouette coefficient: {silhouette_score(X, km.labels_):0.2f}\")\n",
    "    print(f\"Inertia:{km.inertia_}\")\n",
    "\n",
    "    if print_silhouette_values:\n",
    "        sample_silhouette_values = silhouette_samples(X, km.labels_)\n",
    "        print(f\"Silhouette values:\")\n",
    "        silhouette_values = []\n",
    "        for i in range(k):\n",
    "            cluster_silhouette_values = sample_silhouette_values[km.labels_ == i]\n",
    "            silhouette_values.append(\n",
    "                (\n",
    "                    i,\n",
    "                    cluster_silhouette_values.shape[0],\n",
    "                    cluster_silhouette_values.mean(),\n",
    "                    cluster_silhouette_values.min(),\n",
    "                    cluster_silhouette_values.max(),\n",
    "                )\n",
    "            )\n",
    "        silhouette_values = sorted(\n",
    "            silhouette_values, key=lambda tup: tup[2], reverse=True\n",
    "        )\n",
    "        for s in silhouette_values:\n",
    "            print(\n",
    "                f\"    Cluster {s[0]}: Size:{s[1]} | Avg:{s[2]:.2f} | Min:{s[3]:.2f} | Max: {s[4]:.2f}\"\n",
    "            )\n",
    "    return km, km.labels_"
   ]
  },
  {
   "cell_type": "code",
   "execution_count": 62,
   "metadata": {},
   "outputs": [
    {
     "name": "stdout",
     "output_type": "stream",
     "text": [
      "For n_clusters = 50\n",
      "Silhouette coefficient: 0.02\n",
      "Inertia:8569.727992439684\n",
      "Silhouette values:\n",
      "    Cluster 33: Size:7 | Avg:0.14 | Min:0.02 | Max: 0.29\n",
      "    Cluster 19: Size:387 | Avg:0.12 | Min:0.03 | Max: 0.26\n",
      "    Cluster 37: Size:149 | Avg:0.10 | Min:-0.06 | Max: 0.24\n",
      "    Cluster 38: Size:127 | Avg:0.09 | Min:-0.16 | Max: 0.29\n",
      "    Cluster 6: Size:375 | Avg:0.08 | Min:0.00 | Max: 0.19\n",
      "    Cluster 31: Size:104 | Avg:0.07 | Min:-0.15 | Max: 0.28\n",
      "    Cluster 43: Size:46 | Avg:0.07 | Min:-0.02 | Max: 0.19\n",
      "    Cluster 9: Size:207 | Avg:0.07 | Min:-0.08 | Max: 0.22\n",
      "    Cluster 24: Size:183 | Avg:0.06 | Min:-0.11 | Max: 0.21\n",
      "    Cluster 27: Size:275 | Avg:0.06 | Min:-0.04 | Max: 0.21\n",
      "    Cluster 8: Size:427 | Avg:0.05 | Min:-0.06 | Max: 0.17\n",
      "    Cluster 49: Size:276 | Avg:0.05 | Min:-0.07 | Max: 0.17\n",
      "    Cluster 32: Size:318 | Avg:0.04 | Min:-0.09 | Max: 0.17\n",
      "    Cluster 11: Size:452 | Avg:0.04 | Min:-0.05 | Max: 0.15\n",
      "    Cluster 4: Size:220 | Avg:0.04 | Min:-0.09 | Max: 0.18\n",
      "    Cluster 20: Size:208 | Avg:0.04 | Min:-0.12 | Max: 0.19\n",
      "    Cluster 18: Size:28 | Avg:0.04 | Min:-0.06 | Max: 0.13\n",
      "    Cluster 16: Size:189 | Avg:0.03 | Min:-0.16 | Max: 0.17\n",
      "    Cluster 36: Size:176 | Avg:0.03 | Min:-0.10 | Max: 0.16\n",
      "    Cluster 45: Size:257 | Avg:0.03 | Min:-0.10 | Max: 0.15\n",
      "    Cluster 48: Size:189 | Avg:0.02 | Min:-0.12 | Max: 0.15\n",
      "    Cluster 40: Size:139 | Avg:0.02 | Min:-0.11 | Max: 0.15\n",
      "    Cluster 0: Size:144 | Avg:0.02 | Min:-0.14 | Max: 0.16\n",
      "    Cluster 12: Size:172 | Avg:0.02 | Min:-0.12 | Max: 0.17\n",
      "    Cluster 5: Size:82 | Avg:0.02 | Min:-0.09 | Max: 0.13\n",
      "    Cluster 1: Size:113 | Avg:0.02 | Min:-0.18 | Max: 0.18\n",
      "    Cluster 39: Size:86 | Avg:0.02 | Min:-0.12 | Max: 0.18\n",
      "    Cluster 14: Size:201 | Avg:0.01 | Min:-0.19 | Max: 0.17\n",
      "    Cluster 41: Size:224 | Avg:0.01 | Min:-0.13 | Max: 0.16\n",
      "    Cluster 29: Size:283 | Avg:0.01 | Min:-0.19 | Max: 0.18\n",
      "    Cluster 15: Size:186 | Avg:0.01 | Min:-0.16 | Max: 0.12\n",
      "    Cluster 22: Size:228 | Avg:0.01 | Min:-0.17 | Max: 0.17\n",
      "    Cluster 17: Size:323 | Avg:0.01 | Min:-0.13 | Max: 0.15\n",
      "    Cluster 13: Size:197 | Avg:0.00 | Min:-0.16 | Max: 0.14\n",
      "    Cluster 42: Size:232 | Avg:0.00 | Min:-0.18 | Max: 0.14\n",
      "    Cluster 7: Size:194 | Avg:-0.00 | Min:-0.16 | Max: 0.11\n",
      "    Cluster 28: Size:117 | Avg:-0.00 | Min:-0.16 | Max: 0.14\n",
      "    Cluster 34: Size:116 | Avg:-0.00 | Min:-0.18 | Max: 0.10\n",
      "    Cluster 44: Size:287 | Avg:-0.00 | Min:-0.13 | Max: 0.11\n",
      "    Cluster 25: Size:186 | Avg:-0.01 | Min:-0.16 | Max: 0.11\n",
      "    Cluster 21: Size:188 | Avg:-0.01 | Min:-0.21 | Max: 0.15\n",
      "    Cluster 30: Size:230 | Avg:-0.01 | Min:-0.17 | Max: 0.11\n",
      "    Cluster 23: Size:166 | Avg:-0.01 | Min:-0.17 | Max: 0.13\n",
      "    Cluster 46: Size:99 | Avg:-0.02 | Min:-0.19 | Max: 0.15\n",
      "    Cluster 26: Size:218 | Avg:-0.02 | Min:-0.14 | Max: 0.14\n",
      "    Cluster 35: Size:178 | Avg:-0.02 | Min:-0.23 | Max: 0.14\n",
      "    Cluster 10: Size:219 | Avg:-0.03 | Min:-0.17 | Max: 0.13\n",
      "    Cluster 2: Size:80 | Avg:-0.03 | Min:-0.20 | Max: 0.10\n",
      "    Cluster 47: Size:220 | Avg:-0.03 | Min:-0.16 | Max: 0.09\n",
      "    Cluster 3: Size:174 | Avg:-0.06 | Min:-0.20 | Max: 0.08\n"
     ]
    }
   ],
   "source": [
    "clustering, cluster_labels = mbkmeans_clusters(X=vectorized_docs, k=50, print_silhouette_values=True)\n",
    "df_clusters = pd.DataFrame({\n",
    "    \"text\": docs,\n",
    "    \"tokens\": [\" \".join(text) for text in tokenized_docs],\n",
    "    \"cluster\": cluster_labels\n",
    "})"
   ]
  },
  {
   "cell_type": "code",
   "execution_count": 63,
   "metadata": {},
   "outputs": [
    {
     "name": "stdout",
     "output_type": "stream",
     "text": [
      "Top terms per cluster (based on centroids):\n",
      "Cluster 0: candidate frontrunner representative singled senator \n",
      "Cluster 1: altered map alabama trajectory flahurricane \n",
      "Cluster 2: crisis companies data destroyers stock \n",
      "Cluster 3: receiver graphic posted spoof coverage \n",
      "Cluster 4: lauderdale port freeport helicopter engulfed \n",
      "Cluster 5: cypriot missile ballistic northeast breakaway \n",
      "Cluster 6: anne pike artist exploring dove \n",
      "Cluster 7: alleged cop osama orde kingsland \n",
      "Cluster 8: promote guys im maybe cowley \n",
      "Cluster 9: stocks markets growth flows global \n",
      "Cluster 10: app lite switch penthouse nintendo \n",
      "Cluster 11: driving clothes console messy ish \n",
      "Cluster 12: shares private stripe stake net1 \n",
      "Cluster 13: murder guyger murdering amber groping \n",
      "Cluster 14: peace conclude talks obeying iran \n",
      "Cluster 15: vladimir volodymyr vice ukrainian omar \n",
      "Cluster 16: scrapping prorogue parliament proposals prorogation \n",
      "Cluster 17: beardsley englands singer abbey jofra \n",
      "Cluster 18: oil unloaded tanker prices arabia \n",
      "Cluster 19: schlesinger castro thomas refusal marco \n",
      "Cluster 20: duthiers echoed berardelli von gerald \n",
      "Cluster 21: exports goods disarmament nuclear exit \n",
      "Cluster 22: valley stricter silicon allayed underscores \n",
      "Cluster 23: yelp doubleline considering att technologies \n",
      "Cluster 24: backstop proposals kuenssberg delay tánaiste \n",
      "Cluster 25: officers deploying raided iraqi detained \n",
      "Cluster 26: boogie saturdays weekly schedule tri \n",
      "Cluster 27: design calloway 2k20 console chick \n",
      "Cluster 28: mp trudeau johnsons jo cameron \n",
      "Cluster 29: womens league premier title winning \n",
      "Cluster 30: growth price markets market boost \n",
      "Cluster 31: apple iphone apples webpage nintendo \n",
      "Cluster 32: wales captain cricketer gracia javi \n",
      "Cluster 33: democratic candidates cnncnn presidential nominating \n",
      "Cluster 34: coalition yemen un syria military \n",
      "Cluster 35: linked cases cigarettes illnesses vaping \n",
      "Cluster 36: fáil fianna criticisms lib mitch \n",
      "Cluster 37: tropical storm bahamas heavy winds \n",
      "Cluster 38: protests protesters kong channeling gunfights \n",
      "Cluster 39: tanker arabia drone unloaded arabias \n",
      "Cluster 40: giant technology startup hailing darling \n",
      "Cluster 41: diplomatic northeast imposed humanitarian ties \n",
      "Cluster 42: turnberry bash ivanka washingtonpresident administrations \n",
      "Cluster 43: yemens drone yemeni strikes houthi \n",
      "Cluster 44: stabbed rage dead incident accident \n",
      "Cluster 45: convicted neighbor utah pleads swastika \n",
      "Cluster 46: debate candidates democratic presidential campaign \n",
      "Cluster 47: dollar roughly annual deficit climbed \n",
      "Cluster 48: harbour bahamas flooding parts tropical \n",
      "Cluster 49: chesney allan cctv staging stanford \n"
     ]
    }
   ],
   "source": [
    "print(\"Top terms per cluster (based on centroids):\")\n",
    "for i in range(50):\n",
    "    tokens_per_cluster = \"\"\n",
    "    most_representative = modeldv.wv.most_similar(positive=[clustering.cluster_centers_[i]], topn=5)\n",
    "    for t in most_representative:\n",
    "        tokens_per_cluster += f\"{t[0]} \"\n",
    "    print(f\"Cluster {i}: {tokens_per_cluster}\")"
   ]
  },
  {
   "cell_type": "code",
   "execution_count": 64,
   "metadata": {},
   "outputs": [
    {
     "name": "stdout",
     "output_type": "stream",
     "text": [
      "Fox News Poll Shows Trump Losing to Every Democratic Frontrunner - Newsweek | Fox News Poll Shows Trump Losing to Every Democratic Frontrunner Newsweek The polls are in: here’s who won — and lost — last week’s debate Vox.com One big lesson from the General Motors strike NJ.com Electability becomes a self-fulfilling prophecy The Washing… | The latest Fox News poll about the 2020 election shows President Donald Trump losing to every Democratic frontrunner including Joe Biden, Bernie Sanders and Elizabeth Warren.\n",
      "The survey, which was conducted from September 15 to September 17, found that Biden… [+2580 chars]\n",
      "-------------\n",
      "Presidential resumes: We asked voters the qualities they want most in a president, and these are the 2020 Democratic candidates who look best on paper | Earlier this summer, Insider polled voters on what accomplishments made them more likely to vote for a presidential candidate. Democratic voters' most favored qualities included having released tax returns, gubernatorial experience, Congressional experience, … | More than half of all US presidents have been lawyers. Many were born into wealth. But according to voters polled by Insider, those aren't terribly desirable traits for those running for president. \n",
      " Voters said they best liked candidates who had served as g… [+2278 chars]\n",
      "-------------\n",
      "Expectations of Andrew Yang have doubled since the last debate, according to a new poll | A new Insider poll found Democratic voters' confidence in Andrew Yang 's debate performance has doubled since the last debate. By proportion, that's the most significant boost out of all the 2020 contenders between July's pre-debate polling and now. Yang and … | Entrepreneur Andrew Yang may not be a frontrunner in the 2020 presidential race, or even close, but Americans' expectations of him are rising fast. \n",
      " According to a new Insider poll, confidence in Yang's debate performance has doubled among both self-reporte… [+3627 chars]\n",
      "-------------\n",
      "Poll finds Warren and Biden locked in a tight race for Democratic nomination | Massachusetts Sen. Elizabeth Warren and former Vice President Joe Biden lead the crowded Democratic primary field, with 28% and 25% support each from likely Democratic voters, according to a Monmouth University national poll out Wednesday. | (CNN)Massachusetts Sen. Elizabeth Warren and former Vice President Joe Biden lead the crowded Democratic primary field, with 28% and 25% support each from likely Democratic voters, according to a Monmouth University national poll out Wednesday. \n",
      "Warren and B… [+2667 chars]\n",
      "-------------\n",
      "2020 Daily Trail Markers: New poll shows Yang leading Harris in California | A new poll from Emerson College shows Andrew Yang leading Senator Kamala Harris in Harris' home state. CBS News 2020 campaign reporter Nicole Sganga joins CBSN to discuss recent momentum in Yang's campaign. | \n",
      "-------------\n",
      "Democrats debate in Houston as party looks to win back Texas | Ten Democratic presidential candidates will take the stage in Houston Thursday night for the third debate of the 2020 primary. CBSN political reporter Caitlin Huey-Burns, Republican strategist Leslie Sanchez and Democratic strategist Antjuan Seawright joined … | \n",
      "-------------\n",
      "Biden and Warren to take center stage at third debate | Since the previous two debates have divided the field in half over two nights, Warren and Biden have not yet appeared alongside each other | Houston — Former Vice President Joe Biden and Senator Elizabeth Warren will go head-to-head Thursday for the first time on the debate stage in this presidential primary. The match-up will provide the clearest example yet of competing directions for the party.… [+5925 chars]\n",
      "-------------\n",
      "Elizabeth Warren: Where Trump is right now is a nightmare  - CNN Video | Presidential hopeful Elizabeth Warren addresses the climate crisis and how she would face President Donald Trump on the debate stage if she wins the Democratic nomination. | Chat with us in Facebook Messenger. Find out what's happening in the world as it unfolds.\n",
      "-------------\n",
      "Every Democrat running for president falls into 1 of these 5 groups based on who supports them | Joe Raedle / Getty Images There are 17 major candidates currently competing for the Democratic primary nomination, and the leading candidates will be aggressively poaching other candidates' supporters. To help make sense of where all the 2020 Democratic candi… | \n",
      "-------------\n",
      "Why Bernie Sanders' supporters are the most interesting people in the 2020 election | A recurring series of Insider polls found that supporters of Sen. Bernie Sanders are now more likely to support Sen. Elizabeth Warren over former Vice President Joe Biden as the Democratic nominee, a significant shift as the primary race heats up. The data in… | A Bernie Sanders campaign rally in Chicago, Illinois.\n",
      "Scott Olson/Getty Images\n",
      "A recurring series of Insider polls found that supporters of Sen. Bernie Sanders are now more likely to support Sen. Elizabeth Warren over former Vice President Joe Biden as the … [+4164 chars]\n",
      "-------------\n"
     ]
    }
   ],
   "source": [
    "test_cluster = 33\n",
    "most_representative_docs = np.argsort(\n",
    "    np.linalg.norm(vectorized_docs - clustering.cluster_centers_[test_cluster], axis=1)\n",
    ")\n",
    "for d in most_representative_docs[:10]:\n",
    "    print(docs[d])\n",
    "    print(\"-------------\")"
   ]
  },
  {
   "cell_type": "markdown",
   "metadata": {},
   "source": [
    "## Поиск гиперпараметров по сетке"
   ]
  },
  {
   "cell_type": "markdown",
   "metadata": {},
   "source": [
    "### поиск оптимального числа кластеров"
   ]
  },
  {
   "cell_type": "code",
   "execution_count": 16,
   "metadata": {},
   "outputs": [],
   "source": [
    "from sklearn.cluster import KMeans\n",
    "from sklearn import metrics\n",
    "from scipy.spatial.distance import cdist\n",
    "import numpy as np\n",
    "import matplotlib.pyplot as plt\n",
    "\n",
    "\n",
    "distortions = []\n",
    "K = range(1,100, 5)\n",
    "for k in K:\n",
    "    kmeanModel = KMeans(n_clusters=k).fit(vectorized_docs)\n",
    "    kmeanModel.fit(vectorized_docs)\n",
    "    #distortions.append(sum(np.min(cdist(X, kmeanModel.cluster_centers_, 'euclidean'), axis=1)) / X.shape[0])\n",
    "    distortions.append(kmeanModel.inertia_)"
   ]
  },
  {
   "cell_type": "code",
   "execution_count": 17,
   "metadata": {},
   "outputs": [
    {
     "data": {
      "text/plain": [
       "Text(0, 0.5, 'distortions')"
      ]
     },
     "execution_count": 17,
     "metadata": {},
     "output_type": "execute_result"
    },
    {
     "data": {
      "image/png": "[encoded data removed]",
      "text/plain": [
       "<Figure size 432x288 with 1 Axes>"
      ]
     },
     "metadata": {
      "needs_background": "light"
     },
     "output_type": "display_data"
    }
   ],
   "source": [
    "plt.plot(K, distortions)\n",
    "plt.xlabel(\"k range\")\n",
    "plt.ylabel(\"distortions\")"
   ]
  },
  {
   "cell_type": "markdown",
   "metadata": {},
   "source": [
    "### поиск гипер параметров"
   ]
  },
  {
   "cell_type": "markdown",
   "metadata": {},
   "source": [
    "Мы хотим подобрать лучшие параметры для моделей:\n",
    "\n",
    "\n",
    "    Word2vec:\n",
    "        vector_size\n",
    "        \n",
    "    Doc2ves:\n",
    "        vector_size\n",
    "        window_size\n",
    "\n",
    "для проверки будем равнивать на сколько вектор title совпадает с вектором самого текста, найдем через косинусное расстояние"
   ]
  },
  {
   "cell_type": "code",
   "execution_count": 31,
   "metadata": {
    "scrolled": true
   },
   "outputs": [],
   "source": [
    "custom_stopwords = set(stopwords.words(\"english\") + [\"news\", \"new\", \"top\"])\n",
    "title_columns = [\"title\"]\n",
    "text_columns = [\"description\", \"content\"]\n",
    "\n",
    "df = df_raw.copy()\n",
    "df[\"content\"] = df[\"content\"].fillna(\"\")\n",
    "\n",
    "for col in text_columns:\n",
    "    df[col] = df[col].astype(str)\n",
    "\n",
    "# Create text column based on title, description, and content\n",
    "df[\"text\"] = df[text_columns].apply(lambda x: \" | \".join(x), axis=1)\n",
    "df[\"tokens\"] = df[\"text\"].map(lambda x: clean_text(x, word_tokenize, custom_stopwords))\n",
    "df[\"tokens_title\"] = df[\"title\"].map(lambda x: clean_text(x, word_tokenize, custom_stopwords))\n",
    "\n",
    "# Remove duplicated after preprocessing\n",
    "_, idx = np.unique(df[\"tokens\"], return_index=True)\n",
    "df = df.iloc[idx, :]\n",
    "\n",
    "# Remove empty values\n",
    "df = df.loc[df.tokens.map(lambda x: len(x) > 0), [\"tokens_title\", \"tokens\"]]"
   ]
  },
  {
   "cell_type": "code",
   "execution_count": 35,
   "metadata": {},
   "outputs": [
    {
     "name": "stdout",
     "output_type": "stream",
     "text": [
      "9687\n",
      "9687\n"
     ]
    }
   ],
   "source": [
    "tokenized_docs = df[\"tokens\"].values\n",
    "tokenized_titles = df[\"tokens_title\"].values\n",
    "\n",
    "print(len(tokenized_titles))\n",
    "print(len(tokenized_docs))"
   ]
  },
  {
   "cell_type": "code",
   "execution_count": 156,
   "metadata": {},
   "outputs": [],
   "source": [
    "# создаем сетку параметров:\n",
    "vector_size_range = range(1, 101, 5)"
   ]
  },
  {
   "cell_type": "code",
   "execution_count": 157,
   "metadata": {},
   "outputs": [
    {
     "name": "stdout",
     "output_type": "stream",
     "text": [
      "10.00020682811737\n",
      "485.5487731397152\n",
      "528.0472649633884\n",
      "551.2801556885242\n",
      "535.52222058177\n",
      "541.3496044576168\n",
      "522.5107842087746\n",
      "520.0321653187275\n",
      "513.6182690262794\n",
      "503.6405604183674\n",
      "497.6023508012295\n",
      "494.225977152586\n",
      "489.16013088822365\n",
      "490.7323587536812\n",
      "479.46621203422546\n",
      "477.13446524739265\n",
      "472.41586071252823\n",
      "474.5641686320305\n",
      "472.1649237573147\n",
      "462.9322186112404\n"
     ]
    }
   ],
   "source": [
    "from scipy.spatial import distance\n",
    "\n",
    "\n",
    "errors = []\n",
    "for vector_size in vector_size_range:\n",
    "    \n",
    "    model = Word2Vec(sentences=tokenized_docs, vector_size=vector_size, workers=1, seed=SEED);\n",
    "    \n",
    "    vectorized_docs = vectorize(tokenized_docs, model)\n",
    "    \n",
    "    vectorized_titles = vectorize(tokenized_titles, model)\n",
    "    \n",
    "    error = 0\n",
    "    for i in range(len(vectorized_docs)):\n",
    "        error += distance.cosine(vectorized_docs[i], vectorized_titles[i])\n",
    "    print(error)\n",
    "    errors.append(error)"
   ]
  },
  {
   "cell_type": "code",
   "execution_count": 141,
   "metadata": {},
   "outputs": [
    {
     "name": "stdout",
     "output_type": "stream",
     "text": [
      "Collecting matplotlib\n",
      "  Downloading matplotlib-3.4.3-cp37-cp37m-macosx_10_9_x86_64.whl (7.2 MB)\n",
      "\u001b[K     |████████████████████████████████| 7.2 MB 1.3 MB/s eta 0:00:01\n",
      "\u001b[?25hCollecting pillow>=6.2.0\n",
      "  Downloading Pillow-8.3.1-cp37-cp37m-macosx_10_10_x86_64.whl (2.9 MB)\n",
      "\u001b[K     |████████████████████████████████| 2.9 MB 7.6 MB/s eta 0:00:01\n",
      "\u001b[?25hRequirement already satisfied: python-dateutil>=2.7 in ./venv/lib/python3.7/site-packages (from matplotlib) (2.8.2)\n",
      "Requirement already satisfied: numpy>=1.16 in ./venv/lib/python3.7/site-packages (from matplotlib) (1.19.4)\n",
      "Collecting cycler>=0.10\n",
      "  Using cached cycler-0.10.0-py2.py3-none-any.whl (6.5 kB)\n",
      "Collecting kiwisolver>=1.0.1\n",
      "  Downloading kiwisolver-1.3.1-cp37-cp37m-macosx_10_9_x86_64.whl (61 kB)\n",
      "\u001b[K     |████████████████████████████████| 61 kB 6.2 MB/s eta 0:00:01\n",
      "\u001b[?25hRequirement already satisfied: pyparsing>=2.2.1 in ./venv/lib/python3.7/site-packages (from matplotlib) (2.4.7)\n",
      "Requirement already satisfied: six in ./venv/lib/python3.7/site-packages (from cycler>=0.10->matplotlib) (1.16.0)\n",
      "Installing collected packages: pillow, kiwisolver, cycler, matplotlib\n",
      "Successfully installed cycler-0.10.0 kiwisolver-1.3.1 matplotlib-3.4.3 pillow-8.3.1\n",
      "\u001b[33mWARNING: You are using pip version 21.1.3; however, version 21.2.4 is available.\n",
      "You should consider upgrading via the '/Users/denis/Desktop/Summer_Practice/nlp-snippets/venv/bin/python3 -m pip install --upgrade pip' command.\u001b[0m\n"
     ]
    }
   ],
   "source": [
    "!pip install -U matplotlib"
   ]
  },
  {
   "cell_type": "code",
   "execution_count": 158,
   "metadata": {},
   "outputs": [
    {
     "data": {
      "text/plain": [
       "Text(0, 0.5, 'sum of cosin distance')"
      ]
     },
     "execution_count": 158,
     "metadata": {},
     "output_type": "execute_result"
    },
    {
     "data": {
      "image/png": "[encoded data removed]",
      "text/plain": [
       "<Figure size 432x288 with 1 Axes>"
      ]
     },
     "metadata": {
      "needs_background": "light"
     },
     "output_type": "display_data"
    }
   ],
   "source": [
    "import matplotlib.pyplot as plt\n",
    "\n",
    "\n",
    "plt.plot(vector_size_range, errors)\n",
    "plt.xlabel(\"vector_size\")\n",
    "plt.ylabel(\"sum of cosin distance\")"
   ]
  },
  {
   "cell_type": "code",
   "execution_count": 33,
   "metadata": {},
   "outputs": [],
   "source": [
    "# создаем сетку параметров:\n",
    "vector_size_range = range(30, 41, 10)\n",
    "window_range = range(2, 10);"
   ]
  },
  {
   "cell_type": "code",
   "execution_count": 40,
   "metadata": {},
   "outputs": [
    {
     "name": "stdout",
     "output_type": "stream",
     "text": [
      "vector_size: 30    window: 2\n",
      "3291.9446106333053\n",
      "vector_size: 30    window: 3\n",
      "3286.1870734925615\n",
      "vector_size: 30    window: 4\n",
      "3290.685852492552\n",
      "vector_size: 30    window: 5\n",
      "3296.4689709722297\n",
      "vector_size: 30    window: 6\n",
      "3279.1774203363602\n",
      "vector_size: 30    window: 7\n",
      "3278.672069430584\n",
      "vector_size: 30    window: 8\n",
      "3283.6640926465625\n",
      "vector_size: 30    window: 9\n",
      "3289.0930471369647\n",
      "vector_size: 40    window: 2\n",
      "3291.929179743165\n",
      "vector_size: 40    window: 3\n",
      "3288.4915898351173\n",
      "vector_size: 40    window: 4\n",
      "3282.974888044282\n",
      "vector_size: 40    window: 5\n",
      "3280.7907068335335\n",
      "vector_size: 40    window: 6\n",
      "3281.476655820268\n",
      "vector_size: 40    window: 7\n",
      "3276.880556948483\n",
      "vector_size: 40    window: 8\n",
      "3295.941181475253\n",
      "vector_size: 40    window: 9\n",
      "3288.687649303116\n"
     ]
    }
   ],
   "source": [
    "from scipy.spatial import distance\n",
    "\n",
    "\n",
    "errors = []\n",
    "for vector_size in vector_size_range:\n",
    "    for j in window_range:\n",
    "        model = Doc2Vec(documents, vector_size=vector_size, window=j, min_count=1, workers=1);\n",
    "        \n",
    "        vectorized_docs = []\n",
    "        for i in range(len(tokenized_docs)):\n",
    "            vectorized_docs.append(modeldv.infer_vector(tokenized_docs[i]))\n",
    "    \n",
    "        vectorized_titles = []\n",
    "        for i in range(len(tokenized_titles)):\n",
    "            vectorized_titles.append(modeldv.infer_vector(tokenized_titles[i]))\n",
    "        error = 0\n",
    "#         print(len(vectorized_docs))\n",
    "#         prin(len(vectorized_titles))\n",
    "        for i in range(len(vectorized_docs)):\n",
    "            error += distance.cosine(vectorized_docs[i], vectorized_titles[i])\n",
    "        print(\"vector_size: \" + str(vector_size) + \"    window: \" + str(j))\n",
    "        print(error)\n",
    "        errors.append(error)"
   ]
  },
  {
   "cell_type": "code",
   "execution_count": 180,
   "metadata": {},
   "outputs": [
    {
     "name": "stdout",
     "output_type": "stream",
     "text": [
      "[227.4528568983078, 253.10591620206833, 287.1969421803951, 567.9930594861507, 669.1021638512611, 774.3597612679005, 704.1011917889118, 829.7611305117607, 946.2683489769697, 760.5852160155773, 880.709297567606, 998.9721635580063]\n"
     ]
    }
   ],
   "source": [
    "print(errors)"
   ]
  },
  {
   "cell_type": "code",
   "execution_count": 43,
   "metadata": {},
   "outputs": [
    {
     "name": "stdout",
     "output_type": "stream",
     "text": [
      "vector size = 30\n"
     ]
    },
    {
     "data": {
      "text/plain": [
       "Text(0, 0.5, 'sum of cosin distance')"
      ]
     },
     "execution_count": 43,
     "metadata": {},
     "output_type": "execute_result"
    },
    {
     "data": {
      "image/png": "[encoded data removed]",
      "text/plain": [
       "<Figure size 432x288 with 1 Axes>"
      ]
     },
     "metadata": {
      "needs_background": "light"
     },
     "output_type": "display_data"
    }
   ],
   "source": [
    "import matplotlib.pyplot as plt\n",
    "\n",
    "\n",
    "print(\"vector size = 30\")\n",
    "plt.plot(window_range, errors[:8])\n",
    "plt.xlabel(\"window range\")\n",
    "plt.ylabel(\"sum of cosin distance\")"
   ]
  },
  {
   "cell_type": "code",
   "execution_count": 45,
   "metadata": {},
   "outputs": [
    {
     "name": "stdout",
     "output_type": "stream",
     "text": [
      "vector size = 40\n"
     ]
    },
    {
     "data": {
      "text/plain": [
       "Text(0, 0.5, 'sum of cosin distance')"
      ]
     },
     "execution_count": 45,
     "metadata": {},
     "output_type": "execute_result"
    },
    {
     "data": {
      "image/png": "[encoded data removed]",
      "text/plain": [
       "<Figure size 432x288 with 1 Axes>"
      ]
     },
     "metadata": {
      "needs_background": "light"
     },
     "output_type": "display_data"
    }
   ],
   "source": [
    "import matplotlib.pyplot as plt\n",
    "\n",
    "\n",
    "print(\"vector size = 40\")\n",
    "plt.plot(window_range, errors[8:])\n",
    "plt.xlabel(\"window range\")\n",
    "plt.ylabel(\"sum of cosin distance\")"
   ]
  },
  {
   "cell_type": "code",
   "execution_count": 183,
   "metadata": {},
   "outputs": [
    {
     "name": "stdout",
     "output_type": "stream",
     "text": [
      "window = 4\n"
     ]
    },
    {
     "data": {
      "text/plain": [
       "Text(0, 0.5, 'sum of cosin distance')"
      ]
     },
     "execution_count": 183,
     "metadata": {},
     "output_type": "execute_result"
    },
    {
     "data": {
      "image/png": "[encoded data removed]",
      "text/plain": [
       "<Figure size 432x288 with 1 Axes>"
      ]
     },
     "metadata": {
      "needs_background": "light"
     },
     "output_type": "display_data"
    }
   ],
   "source": [
    "import matplotlib.pyplot as plt\n",
    "\n",
    "\n",
    "print(\"window = 4\")\n",
    "plt.plot(vector_size_range, errors[2::3])\n",
    "plt.xlabel(\"vector_size\")\n",
    "plt.ylabel(\"sum of cosin distance\")"
   ]
  },
  {
   "cell_type": "code",
   "execution_count": 185,
   "metadata": {},
   "outputs": [
    {
     "name": "stdout",
     "output_type": "stream",
     "text": [
      "vector_size = 2\n"
     ]
    },
    {
     "data": {
      "text/plain": [
       "Text(0, 0.5, 'sum of cosin distance')"
      ]
     },
     "execution_count": 185,
     "metadata": {},
     "output_type": "execute_result"
    },
    {
     "data": {
      "image/png": "[encoded data removed]",
      "text/plain": [
       "<Figure size 432x288 with 1 Axes>"
      ]
     },
     "metadata": {
      "needs_background": "light"
     },
     "output_type": "display_data"
    }
   ],
   "source": [
    "import matplotlib.pyplot as plt\n",
    "\n",
    "\n",
    "print(\"vector_size = 2\")\n",
    "plt.plot(window_range, errors[:3])\n",
    "plt.xlabel(\"window_range\")\n",
    "plt.ylabel(\"sum of cosin distance\")"
   ]
  },
  {
   "cell_type": "code",
   "execution_count": 188,
   "metadata": {},
   "outputs": [
    {
     "name": "stdout",
     "output_type": "stream",
     "text": [
      "vector_size = 2\n"
     ]
    },
    {
     "data": {
      "text/plain": [
       "Text(0, 0.5, 'sum of cosin distance')"
      ]
     },
     "execution_count": 188,
     "metadata": {},
     "output_type": "execute_result"
    },
    {
     "data": {
      "image/png": "[encoded data removed]",
      "text/plain": [
       "<Figure size 432x288 with 1 Axes>"
      ]
     },
     "metadata": {
      "needs_background": "light"
     },
     "output_type": "display_data"
    }
   ],
   "source": [
    "import matplotlib.pyplot as plt\n",
    "\n",
    "\n",
    "print(\"vector_size = 7\")\n",
    "plt.plot(window_range, errors[3:6])\n",
    "plt.xlabel(\"window_range\")\n",
    "plt.ylabel(\"sum of cosin distance\")"
   ]
  },
  {
   "cell_type": "code",
   "execution_count": 190,
   "metadata": {},
   "outputs": [
    {
     "name": "stdout",
     "output_type": "stream",
     "text": [
      "vector_size = 2\n"
     ]
    },
    {
     "data": {
      "text/plain": [
       "Text(0, 0.5, 'sum of cosin distance')"
      ]
     },
     "execution_count": 190,
     "metadata": {},
     "output_type": "execute_result"
    },
    {
     "data": {
      "image/png": "[encoded data removed]",
      "text/plain": [
       "<Figure size 432x288 with 1 Axes>"
      ]
     },
     "metadata": {
      "needs_background": "light"
     },
     "output_type": "display_data"
    }
   ],
   "source": [
    "import matplotlib.pyplot as plt\n",
    "\n",
    "\n",
    "print(\"vector_size = 12\")\n",
    "plt.plot(window_range, errors[6:9])\n",
    "plt.xlabel(\"window_range\")\n",
    "plt.ylabel(\"sum of cosin distance\")"
   ]
  },
  {
   "cell_type": "code",
   "execution_count": 191,
   "metadata": {},
   "outputs": [
    {
     "name": "stdout",
     "output_type": "stream",
     "text": [
      "vector_size = 17\n"
     ]
    },
    {
     "data": {
      "text/plain": [
       "Text(0, 0.5, 'sum of cosin distance')"
      ]
     },
     "execution_count": 191,
     "metadata": {},
     "output_type": "execute_result"
    },
    {
     "data": {
      "image/png": "[encoded data removed]",
      "text/plain": [
       "<Figure size 432x288 with 1 Axes>"
      ]
     },
     "metadata": {
      "needs_background": "light"
     },
     "output_type": "display_data"
    }
   ],
   "source": [
    "import matplotlib.pyplot as plt\n",
    "\n",
    "\n",
    "print(\"vector_size = 17\")\n",
    "plt.plot(window_range, errors[9:12])\n",
    "plt.xlabel(\"window_range\")\n",
    "plt.ylabel(\"sum of cosin distance\")"
   ]
  }
 ],
 "metadata": {
  "kernelspec": {
   "display_name": "Python 3 (ipykernel)",
   "language": "python",
   "name": "python3"
  },
  "language_info": {
   "codemirror_mode": {
    "name": "ipython",
    "version": 3
   },
   "file_extension": ".py",
   "mimetype": "text/x-python",
   "name": "python",
   "nbconvert_exporter": "python",
   "pygments_lexer": "ipython3",
   "version": "3.7.6"
  }
 },
 "nbformat": 4,
 "nbformat_minor": 4
}
